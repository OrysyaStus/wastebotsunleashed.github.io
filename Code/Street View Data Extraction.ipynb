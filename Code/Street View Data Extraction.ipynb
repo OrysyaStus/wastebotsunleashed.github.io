{
 "cells": [
  {
   "cell_type": "markdown",
   "metadata": {},
   "source": [
    "# Accessing Google API Street View Data using Google Streets API\n",
    "https://andrewpwheeler.wordpress.com/2015/12/28/using-python-to-grab-google-street-view-imagery/"
   ]
  },
  {
   "cell_type": "code",
   "execution_count": null,
   "metadata": {
    "collapsed": true
   },
   "outputs": [],
   "source": [
    "import urllib, os\n",
    "import pandas as pd"
   ]
  },
  {
   "cell_type": "markdown",
   "metadata": {
    "collapsed": true
   },
   "source": [
    "## Train Data: Selected Littered Google Street Views"
   ]
  },
  {
   "cell_type": "code",
   "execution_count": null,
   "metadata": {
    "collapsed": true
   },
   "outputs": [],
   "source": [
    "littered = pd.read_csv(\"C:/Users/Orysya/Desktop/Women_Hackathon/Data_Potential_LongLats/Addresses/littered_samples.csv\")\n",
    "lats = littered['latitude'].tolist()\n",
    "longs = littered['longtitude'].tolist()"
   ]
  },
  {
   "cell_type": "code",
   "execution_count": null,
   "metadata": {
    "collapsed": true
   },
   "outputs": [],
   "source": [
    "Tests = []\n",
    "length = len(longs)\n",
    "for i in range(length):\n",
    "    Test = str(lats[i])+', '+str(longs[i])\n",
    "    Tests.append(Test)"
   ]
  },
  {
   "cell_type": "code",
   "execution_count": null,
   "metadata": {
    "collapsed": true
   },
   "outputs": [],
   "source": [
    "myloc = r\"C:/Users/Orysya/Desktop/Women_Hackathon/Data_Potential_LongLats/Addresses/littered_area/\" #Specify output directory\n",
    "key = \"&key=\" + \"\" #Enter in your API key here\n",
    "\n",
    "def GetStreet(Add,SaveLoc):\n",
    "  base = \"https://maps.googleapis.com/maps/api/streetview?size=1200x800&location=\"\n",
    "  MyUrl = base + Add + key\n",
    "  fi = Add + \".jpg\"\n",
    "  urllib.urlretrieve(MyUrl, os.path.join(SaveLoc,fi))\n",
    "\n",
    "for i in Tests:\n",
    "  GetStreet(Add=i,SaveLoc=myloc)"
   ]
  },
  {
   "cell_type": "markdown",
   "metadata": {},
   "source": [
    "## Test Data: ~5% of SANDAG Address Data"
   ]
  },
  {
   "cell_type": "code",
   "execution_count": null,
   "metadata": {},
   "outputs": [],
   "source": [
    "streets = pd.read_csv(\"C:/Users/Orysya/Desktop/Women_Hackathon/Data_Potential_LongLats/Addresses/For_Tableau.csv\")\n",
    "streets.head()"
   ]
  },
  {
   "cell_type": "code",
   "execution_count": null,
   "metadata": {
    "collapsed": true
   },
   "outputs": [],
   "source": [
    "lats = streets['lats'].tolist()\n",
    "longs = streets['longs'].tolist()"
   ]
  },
  {
   "cell_type": "code",
   "execution_count": null,
   "metadata": {
    "collapsed": true
   },
   "outputs": [],
   "source": [
    "Tests = []\n",
    "length = len(longs)\n",
    "for i in range(length):\n",
    "    Test = str(lats[i])+', '+str(longs[i])\n",
    "    Tests.append(Test)"
   ]
  },
  {
   "cell_type": "code",
   "execution_count": null,
   "metadata": {
    "collapsed": true
   },
   "outputs": [],
   "source": [
    "Tests = Tests[:60000] #Iterate through ~5% of the total data, since API calls are limited and this is a time extensive process"
   ]
  },
  {
   "cell_type": "code",
   "execution_count": null,
   "metadata": {
    "scrolled": false
   },
   "outputs": [],
   "source": [
    "myloc = r\"C:/Users/Orysya/Desktop/Women_Hackathon/Data_Potential_LongLats/Addresses/random_SD_addresses2/\" #Specify output directory\n",
    "key = \"&key=\" + \"\" #Enter in your API key here\n",
    "\n",
    "def GetStreet(Add,SaveLoc):\n",
    "  base = \"https://maps.googleapis.com/maps/api/streetview?size=1200x800&location=\"\n",
    "  MyUrl = base + Add + key\n",
    "  fi = Add + \".jpg\"\n",
    "  urllib.urlretrieve(MyUrl, os.path.join(SaveLoc,fi))\n",
    "\n",
    "for i in Tests:\n",
    "  GetStreet(Add=i,SaveLoc=myloc)"
   ]
  }
 ],
 "metadata": {
  "anaconda-cloud": {},
  "kernelspec": {
   "display_name": "Python [conda env:py27]",
   "language": "python",
   "name": "conda-env-py27-py"
  },
  "language_info": {
   "codemirror_mode": {
    "name": "ipython",
    "version": 2
   },
   "file_extension": ".py",
   "mimetype": "text/x-python",
   "name": "python",
   "nbconvert_exporter": "python",
   "pygments_lexer": "ipython2",
   "version": "2.7.13"
  }
 },
 "nbformat": 4,
 "nbformat_minor": 1
}
